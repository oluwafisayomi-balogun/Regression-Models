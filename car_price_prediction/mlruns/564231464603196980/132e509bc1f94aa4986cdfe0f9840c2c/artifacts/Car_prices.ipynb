{
 "cells": [
  {
   "cell_type": "markdown",
   "metadata": {},
   "source": [
    "# Predict car prices"
   ]
  },
  {
   "cell_type": "markdown",
   "metadata": {},
   "source": [
    "### Problem Statement\n",
    "\n",
    "A Chinese automobile company Geely Auto aspires to enter the US market by setting up their manufacturing unit there and producing cars locally to give competition to their US and European counterparts.\n",
    "\n",
    "They have contracted an automobile consulting company to understand the factors on which the pricing of cars depends. Specifically, they want to understand the factors affecting the pricing of cars in the American market, since those may be very different from the Chinese market. The company wants to know:\n",
    "1. Which variables are significant in predicting the price of a car\n",
    "2. How well those variables describe the price of a car\n",
    "\n",
    "Based on various market surveys, the consulting firm has gathered a large data set of different types of cars across the America market.\n",
    "\n",
    "### Business Goal\n",
    "We are required to model the price of cars with the available independent variables. It will be used by the management to understand how exactly the prices vary with the independent variables. \n",
    "\n",
    "They can accordingly manipulate the design of the cars, the business strategy etc. to meet certain price levels. <br /> \n",
    "Further, the model will be a good way for management to understand the pricing dynamics of a new market."
   ]
  },
  {
   "cell_type": "code",
   "execution_count": 541,
   "metadata": {},
   "outputs": [],
   "source": [
    "# mlflow ui --host 127.0.0.1 --port 5000\n",
    "# run above in terminal"
   ]
  },
  {
   "cell_type": "code",
   "execution_count": 542,
   "metadata": {},
   "outputs": [],
   "source": [
    "# Import necessary libraries\n",
    "import kagglehub\n",
    "import shutil\n",
    "import os\n",
    "import pandas as pd\n",
    "import numpy as np\n",
    "from sklearn.model_selection import train_test_split  # For splitting data\n",
    "from sklearn.linear_model import LinearRegression  # Linear regression model\n",
    "import warnings\n",
    "warnings.filterwarnings(\"ignore\")\n",
    "from sklearn.metrics import mean_absolute_error, mean_squared_error, r2_score\n",
    "import matplotlib.pyplot as plt\n",
    "pd.set_option(\"display.max_columns\", None)\n",
    "pd.set_option(\"display.max_rows\", None)\n",
    "import seaborn as sns\n",
    "from sklearn.decomposition import PCA\n",
    "from sklearn.preprocessing import StandardScaler\n",
    "import mlflow\n",
    "import mlflow.sklearn\n",
    "from mlflow.models.signature import infer_signature\n",
    "from scipy.stats import skew"
   ]
  },
  {
   "cell_type": "code",
   "execution_count": 543,
   "metadata": {},
   "outputs": [],
   "source": [
    "# # Download latest version\n",
    "# path = kagglehub.dataset_download(\"hellbuoy/car-price-prediction\")\n",
    "# # print(\"Path to dataset files:\", path)\n",
    "\n",
    "# # Define a new visible folder\n",
    "# destination_path = \"/Users/user/Desktop/Portfolio/ML/Kaggle_datasets\"\n",
    "# os.makedirs(destination_path, exist_ok=True)\n",
    "\n",
    "# # Move all files from the hidden folder to the new location\n",
    "# for file_name in os.listdir(path):\n",
    "#     print(file_name)\n",
    "#     shutil.move(os.path.join(path, file_name), destination_path)\n",
    "\n",
    "\n",
    "# print(\"Dataset moved to:\", destination_path)"
   ]
  },
  {
   "cell_type": "code",
   "execution_count": 544,
   "metadata": {},
   "outputs": [],
   "source": [
    "# data_dict = {\n",
    "#     \"variable\": [\n",
    "#         \"Car_ID\", \"Symboling\", \"carCompany\", \"fueltype\", \"aspiration\", \"doornumber\",\n",
    "#         \"carbody\", \"drivewheel\", \"enginelocation\", \"wheelbase\", \"carlength\",\n",
    "#         \"carwidth\", \"carheight\", \"curbweight\", \"enginetype\", \"cylindernumber\",\n",
    "#         \"enginesize\", \"fuelsystem\", \"boreratio\", \"stroke\", \"compressionratio\",\n",
    "#         \"horsepower\", \"peakrpm\", \"citympg\", \"highwaympg\", \"price\"\n",
    "#     ],\n",
    "#     \"description\": [\n",
    "#         \"Unique id of each observation (Integer)\",\n",
    "#         \"Its assigned insurance risk rating. A value of +3 indicates that the auto is risky, -3 that it is probably pretty safe. (Categorical)\",\n",
    "#         \"Name of car company (Categorical)\",\n",
    "#         \"Car fuel type i.e. gas or diesel (Categorical)\",\n",
    "#         \"Aspiration used in a car (Categorical)\",\n",
    "#         \"Number of doors in a car (Categorical)\",\n",
    "#         \"Body of car (Categorical)\",\n",
    "#         \"Type of drive wheel (Categorical)\",\n",
    "#         \"Location of car engine (Categorical)\",\n",
    "#         \"Wheelbase of car (Numeric)\",\n",
    "#         \"Length of car (Numeric)\",\n",
    "#         \"Width of car (Numeric)\",\n",
    "#         \"Height of car (Numeric)\",\n",
    "#         \"The weight of a car without occupants or baggage. (Numeric)\",\n",
    "#         \"Type of engine (Categorical)\",\n",
    "#         \"Cylinder placed in the car (Categorical)\",\n",
    "#         \"Size of car (Numeric)\",\n",
    "#         \"Fuel system of car (Categorical)\",\n",
    "#         \"Boreratio of car (Numeric)\",\n",
    "#         \"Stroke or volume inside the engine (Numeric)\",\n",
    "#         \"Compression ratio of car (Numeric)\",\n",
    "#         \"Horsepower (Numeric)\",\n",
    "#         \"Car peak rpm (Numeric)\",\n",
    "#         \"Mileage in city (Numeric)\",\n",
    "#         \"Mileage on highway (Numeric)\",\n",
    "#         \"Price of car (Numeric)\"\n",
    "#     ]\n",
    "# }\n",
    "\n",
    "# # Converting the dictionary to a pandas DataFrame\n",
    "# df_data_dict = pd.DataFrame(data_dict)\n",
    "# df_data_dict.to_csv('/Users/user/Desktop/Portfolio/ML/Kaggle_datasets/CarPrice/data_dict.csv', index=False)"
   ]
  },
  {
   "cell_type": "code",
   "execution_count": 545,
   "metadata": {},
   "outputs": [],
   "source": [
    "# # A DataFrame for the data dictionary based on \"/Users/user/Desktop/Portfolio/ML/Kaggle_datasets/CarPrice\"\n",
    "# # Also https://archive.ics.uci.edu/dataset/10/automobile\n",
    "\n",
    "# data_dict = pd.read_csv('/Users/user/Desktop/Portfolio/ML/Kaggle_datasets/CarPrice/data_dict.csv')\n",
    "# data_dict"
   ]
  },
  {
   "cell_type": "markdown",
   "metadata": {},
   "source": [
    "Add 2 more columns to the car to describe \n",
    "1. The influence of each description\n",
    "2. full meanings of abbreviations if important"
   ]
  },
  {
   "cell_type": "code",
   "execution_count": 546,
   "metadata": {},
   "outputs": [],
   "source": [
    "# additional_data_dict = { \"influence\": [\n",
    "#         \"No direct influence; identifier column.\",\n",
    "#         \"Lower symboling values are safer; -3 is safest.\",\n",
    "#         \"Car company can influence brand perception and price.\",\n",
    "#         \"Diesel is often more fuel-efficient; gas has better acceleration.\",\n",
    "#         \"Std (naturally aspirated) is simpler, cheaper, and more reliable. Turbo gives more power but may require more maintenance.\",\n",
    "#         \"4 doors are typically more practical than 2 doors.\",\n",
    "#         \"Carbody affects style, space, and aerodynamics.\",\n",
    "#         \"Drivewheel affects traction and handling (e.g., 4WD is better for off-road).\",\n",
    "#         \"Front-engine layout is common and efficient; rear-engine provides unique balance and handling.\",\n",
    "#         \"Longer wheelbase improves stability; shorter wheelbase increases agility.\",\n",
    "#         \"Longer cars often have more interior space.\",\n",
    "#         \"Wider cars offer better stability and comfort.\",\n",
    "#         \"Taller cars may provide more headroom but higher center of gravity.\",\n",
    "#         \"Higher curb weight often means better stability but worse fuel efficiency.\",\n",
    "#         \"Enginetype affects performance and maintenance complexity.\",\n",
    "#         \"More cylinders generally mean more power but less fuel efficiency.\",\n",
    "#         \"Larger engines provide more power but consume more fuel.\",\n",
    "#         \"Fuelsystem influences performance and fuel efficiency; e.g., mpfi is more advanced than carburetors.\",\n",
    "#         \"Higher boreratio can increase RPMs, favoring performance.\",\n",
    "#         \"Larger stroke generally increases torque, favoring efficiency.\",\n",
    "#         \"Higher compression ratio improves power and efficiency but requires high-octane fuel.\",\n",
    "#         \"Higher horsepower means better acceleration and performance.\",\n",
    "#         \"Higher peakrpm allows for more power at high speeds.\",\n",
    "#         \"Higher citympg indicates better urban fuel efficiency.\",\n",
    "#         \"Higher highwaympg indicates better fuel efficiency for long trips.\",\n",
    "#         \"Higher price reflects better quality, features, or brand value.\"\n",
    "#     ],\n",
    "#     \"full_meanings\": [\n",
    "#         \"N/A\",\n",
    "#         \"Insurance risk rating: +3 (high risk) to -3 (low risk).\",\n",
    "#         \"N/A\",\n",
    "#         \"Fuel type: 'gas' (gasoline) or 'diesel'.\",\n",
    "#         \"'Aspiration': 'std' (naturally aspirated) or 'turbo' (turbocharged).\",\n",
    "#         \"Number of doors: '2' or '4'.\",\n",
    "#         \"Car body styles: sedan, hatchback, etc.\",\n",
    "#         \"Drive wheel types: 'fwd' (front-wheel drive), 'rwd' (rear-wheel drive), '4wd' (four-wheel drive).\",\n",
    "#         \"Engine location: front or rear.\",\n",
    "#         \"Wheelbase: Distance between front and rear axles (inches).\",\n",
    "#         \"Car length: Bumper-to-bumper length (inches).\",\n",
    "#         \"Car width: Side-to-side width (inches).\",\n",
    "#         \"Car height: Ground to roof height (inches).\",\n",
    "#         \"Curb weight: Car weight without passengers or luggage (pounds).\",\n",
    "#         \"Engine types: 'dohc', 'ohc', etc.\",\n",
    "#         \"Number of cylinders in the engine.\",\n",
    "#         \"Engine displacement size (cc).\",\n",
    "#         \"Fuel system: e.g., 'mpfi' (multi-point fuel injection), '2bbl' (2-barrel carburetor).\",\n",
    "#         \"Boreratio: Cylinder diameter to stroke length ratio.\",\n",
    "#         \"Stroke: Distance a piston moves inside the cylinder (inches).\",\n",
    "#         \"Compression ratio: Ratio of cylinder volume at BDC to TDC.\",\n",
    "#         \"Horsepower: Engine power output (hp).\",\n",
    "#         \"Peak revolutions per minute (RPM) the engine can reach.\",\n",
    "#         \"City miles per gallon (mpg).\",\n",
    "#         \"Highway miles per gallon (mpg).\",\n",
    "#         \"Car price (USD).\"\n",
    "#     ]\n",
    "# }\n",
    "\n",
    "# # Converting the dictionary to a pandas DataFrame\n",
    "# additional_df_data_dict = pd.DataFrame(additional_data_dict)"
   ]
  },
  {
   "cell_type": "code",
   "execution_count": 547,
   "metadata": {},
   "outputs": [],
   "source": [
    "# dfs = [df_data_dict, additional_df_data_dict]\n",
    "# all_df = pd.concat(dfs, axis=1)\n",
    "# all_df\n",
    "# # Units are defaulted to US metrics as the data is a US data "
   ]
  },
  {
   "cell_type": "code",
   "execution_count": 548,
   "metadata": {},
   "outputs": [],
   "source": [
    "# # Update csv\n",
    "# all_df.to_csv('/Users/user/Desktop/Portfolio/ML/Kaggle_datasets/CarPrice/data_dict.csv', index=False)"
   ]
  },
  {
   "cell_type": "code",
   "execution_count": null,
   "metadata": {},
   "outputs": [],
   "source": [
    "# Set Pandas to display full column content\n",
    "pd.set_option('display.max_colwidth', None)\n",
    "all_data_dict_df = pd.read_csv(\"/Users/user/Desktop/Portfolio/ML/Kaggle_datasets/CarPrice/data_dict.csv\")\n",
    "all_data_dict_df"
   ]
  },
  {
   "cell_type": "code",
   "execution_count": 550,
   "metadata": {},
   "outputs": [],
   "source": [
    "pd.reset_option('display.max_colwidth')"
   ]
  },
  {
   "cell_type": "markdown",
   "metadata": {},
   "source": [
    "## Cleaning"
   ]
  },
  {
   "cell_type": "code",
   "execution_count": null,
   "metadata": {},
   "outputs": [],
   "source": [
    "df = pd.read_csv('/Users/user/Desktop/Portfolio/ML/Kaggle_datasets/CarPrice/CarPrice_Assignment.csv')\n",
    "df.head(2)"
   ]
  },
  {
   "cell_type": "code",
   "execution_count": null,
   "metadata": {},
   "outputs": [],
   "source": [
    "df.sample(3)"
   ]
  },
  {
   "cell_type": "code",
   "execution_count": null,
   "metadata": {},
   "outputs": [],
   "source": [
    "df.info()\n",
    "# No empty rows/values"
   ]
  },
  {
   "cell_type": "code",
   "execution_count": null,
   "metadata": {},
   "outputs": [],
   "source": [
    "categorical_columns = ['fueltype', 'aspiration', 'doornumber', 'carbody', 'drivewheel', 'enginelocation', 'enginetype', 'cylindernumber', 'fuelsystem']\n",
    "\n",
    "for col in categorical_columns:\n",
    "    print(f\"Category in {col} is : {df[col].unique()}\")"
   ]
  },
  {
   "cell_type": "code",
   "execution_count": 555,
   "metadata": {},
   "outputs": [],
   "source": [
    "number_map = {'two':2, 'three':3, 'four':4, 'five':5, 'six':6, 'eight':8, 'twelve':12}"
   ]
  },
  {
   "cell_type": "code",
   "execution_count": 556,
   "metadata": {},
   "outputs": [],
   "source": [
    "df.replace({\"cylindernumber\": number_map},inplace=True)\n",
    "df.replace({\"doornumber\": number_map},inplace=True)"
   ]
  },
  {
   "cell_type": "code",
   "execution_count": null,
   "metadata": {},
   "outputs": [],
   "source": [
    "df.head(2)"
   ]
  },
  {
   "cell_type": "code",
   "execution_count": 558,
   "metadata": {},
   "outputs": [],
   "source": [
    "df['CarName'] = df['CarName'].apply(lambda col: col.lower())\n",
    "df.insert(3, 'BrandName', '')\n",
    "\n",
    "# Extract the first word from Car Name\n",
    "df['BrandName'] = df['CarName'].apply(lambda x: str(x).split(' ', 1)[0])"
   ]
  },
  {
   "cell_type": "code",
   "execution_count": null,
   "metadata": {},
   "outputs": [],
   "source": [
    "df.sample(2)"
   ]
  },
  {
   "cell_type": "code",
   "execution_count": 560,
   "metadata": {},
   "outputs": [],
   "source": [
    "cols_to_edit = ['BrandName', 'CarName']\n",
    "\n",
    "replacements = {\n",
    "    'vw': 'volkswagen',\n",
    "    'vokswagen': 'volkswagen',\n",
    "    'toyouta': 'toyota',\n",
    "    'porcshce': 'porsche',\n",
    "    'maxda' : 'mazda'\n",
    "}\n",
    "\n",
    "# Apply replacements\n",
    "df[cols_to_edit] = df[cols_to_edit].replace(replacements)\n"
   ]
  },
  {
   "cell_type": "code",
   "execution_count": null,
   "metadata": {},
   "outputs": [],
   "source": [
    "df['BrandName'].value_counts()"
   ]
  },
  {
   "cell_type": "code",
   "execution_count": 562,
   "metadata": {},
   "outputs": [],
   "source": [
    "del df['CarName']\n",
    "del df['car_ID']"
   ]
  },
  {
   "cell_type": "markdown",
   "metadata": {},
   "source": [
    "## EDA"
   ]
  },
  {
   "cell_type": "code",
   "execution_count": null,
   "metadata": {},
   "outputs": [],
   "source": [
    "plt.title('Distribution of Car Prices', fontsize=16)\n",
    "plt.ylabel('Price (USD)', fontsize=12)\n",
    "sns.boxplot(y=df['price'], color=\"Aqua\", flierprops=dict(markerfacecolor='red', marker='o'))\n",
    "plt.show()"
   ]
  },
  {
   "cell_type": "code",
   "execution_count": null,
   "metadata": {},
   "outputs": [],
   "source": [
    "Q1 = df['price'].quantile(0.25)  # First quartile\n",
    "Q3 = df['price'].quantile(0.75)  # Third quartile\n",
    "IQR = Q3 - Q1                    # Interquartile range\n",
    "\n",
    "# Define outlier range\n",
    "lower_bound = Q1 - 1.5 * IQR\n",
    "upper_bound = Q3 + 1.5 * IQR\n",
    "\n",
    "# Filter outliers\n",
    "outliers = df[(df['price'] < lower_bound) | (df['price'] > upper_bound)]\n",
    "print(\"Number of outlier rows is\" , len(outliers))\n",
    "print(\"Number of rows in the df is\" , len(df))\n",
    "print(\"Percentage of outliers in the df is\", round((len(outliers)/len(df))*100,2), '%')\n"
   ]
  },
  {
   "cell_type": "code",
   "execution_count": null,
   "metadata": {},
   "outputs": [],
   "source": [
    "categorical_features = ['fuelsystem', 'fueltype', 'aspiration', 'carbody', 'drivewheel', 'enginelocation', 'enginetype']\n",
    "\n",
    "plt.figure(figsize=(16, 12))\n",
    "\n",
    "for i, feature in enumerate(categorical_features):\n",
    "    value_counts = df[feature].value_counts()\n",
    "    plt.subplot(3, 3, i + 1)  # 2 rows and 3 columns grid layout\n",
    "    sns.barplot(x=value_counts.index, y=value_counts.values, color=\"aqua\")  \n",
    "    plt.title(f'Distribution of {feature}')\n",
    "    plt.xlabel(feature)\n",
    "    plt.ylabel('Count')\n",
    "    plt.xticks(rotation=45)  # Rotate x-axis labels for readability\n",
    "\n",
    "plt.tight_layout()\n",
    "plt.show()\n"
   ]
  },
  {
   "cell_type": "code",
   "execution_count": null,
   "metadata": {},
   "outputs": [],
   "source": [
    "# Distribution of Numerical Features\n",
    "numerical_features = ['doornumber', 'wheelbase', 'carlength', 'carwidth', 'carheight', 'curbweight', 'cylindernumber', 'enginesize', 'boreratio', \n",
    "                      'stroke', 'compressionratio', 'horsepower', 'peakrpm', 'citympg', 'highwaympg', 'price']\n",
    "\n",
    "plt.figure(figsize=(16, 12))\n",
    "for i, feature in enumerate(numerical_features):\n",
    "    plt.subplot(4, 4, i + 1)\n",
    "    sns.histplot(data=df[feature], bins=20, kde=True, color=\"aqua\")\n",
    "    plt.title(feature)\n",
    "plt.tight_layout()\n",
    "plt.show()"
   ]
  },
  {
   "cell_type": "code",
   "execution_count": null,
   "metadata": {},
   "outputs": [],
   "source": [
    "correlation_matrix = df[numerical_features].corr()\n",
    "plt.figure(figsize=(25,15))\n",
    "sns.heatmap(correlation_matrix, annot=True, cmap='coolwarm')\n",
    "plt.title('Correlation of Numerical features')\n",
    "plt.show()"
   ]
  },
  {
   "cell_type": "markdown",
   "metadata": {},
   "source": [
    "## Pre-processing Data"
   ]
  },
  {
   "cell_type": "code",
   "execution_count": null,
   "metadata": {},
   "outputs": [],
   "source": [
    "correlation_matrix['price'].sort_values(ascending=False)"
   ]
  },
  {
   "cell_type": "code",
   "execution_count": 573,
   "metadata": {},
   "outputs": [],
   "source": [
    "# Select features with high correlation with price using the heat map and the list above\n",
    "Strong_positive_correlation_columns = ['carwidth', 'curbweight', 'enginesize', 'horsepower']\n",
    "Strong_negative_correlation_columns = ['citympg', 'highwaympg']\n",
    "\n",
    "low_correlation_columns = ['doornumber', 'stroke', 'compressionratio', 'peakrpm']\n",
    "\n",
    "# Drop features with very low correlation with price, \n",
    "# e.g., doornumber (0.032), stroke (0.079), compressionratio (0.068), peakrpm(-0.085)\n",
    "\n",
    "# Drop these columns\n",
    "df = df.drop(columns=low_correlation_columns)"
   ]
  },
  {
   "cell_type": "code",
   "execution_count": 574,
   "metadata": {},
   "outputs": [],
   "source": [
    "# Drop cylindernumber since it's highly correlated with enginesize\n",
    "df = df.drop(columns=['cylindernumber'])"
   ]
  },
  {
   "cell_type": "markdown",
   "metadata": {},
   "source": [
    "##### PCA analysis"
   ]
  },
  {
   "cell_type": "code",
   "execution_count": null,
   "metadata": {},
   "outputs": [],
   "source": [
    "# carlength & width into car dimensions\n",
    "car_dimensions_df = df[['carlength', 'carwidth']]\n",
    "print(type(car_dimensions_df))\n",
    "car_dimensions_df.head()"
   ]
  },
  {
   "cell_type": "code",
   "execution_count": null,
   "metadata": {},
   "outputs": [],
   "source": [
    "# Standardize the data\n",
    "scaler = StandardScaler()\n",
    "data_standardized = scaler.fit_transform(car_dimensions_df)\n",
    "\n",
    "# Perform PCA\n",
    "pca = PCA(n_components=1)  # We want one principal component\n",
    "df['car_dimension'] = pca.fit_transform(data_standardized)\n",
    "\n",
    "print(\"Explained variance ratio:\", pca.explained_variance_ratio_) \n",
    "# If the explained variance ratio is high (e.g., > 0.9), it's safe to drop the original columns."
   ]
  },
  {
   "cell_type": "code",
   "execution_count": 577,
   "metadata": {},
   "outputs": [],
   "source": [
    "df = df.drop(columns=['carlength', 'carwidth'])"
   ]
  },
  {
   "cell_type": "code",
   "execution_count": null,
   "metadata": {},
   "outputs": [],
   "source": [
    "# citympg/highwaympg into fuel efficiency\n",
    "fuel_efficiency_df = df[['citympg', 'highwaympg']]\n",
    "print(type(fuel_efficiency_df))\n",
    "fuel_efficiency_df.head()"
   ]
  },
  {
   "cell_type": "code",
   "execution_count": null,
   "metadata": {},
   "outputs": [],
   "source": [
    "# Loop through the columns and print sorted unique values\n",
    "for col in fuel_efficiency_df:\n",
    "    unique_values = pd.Series(df[col].unique())  # Convert to Series\n",
    "    print(f\"Values in {col} are: {unique_values.sort_values().values}\")\n",
    "    # Check if the range is somewhat the same to perform either Normalization or Standardization"
   ]
  },
  {
   "cell_type": "code",
   "execution_count": null,
   "metadata": {},
   "outputs": [],
   "source": [
    "# Standardize the data\n",
    "scaler = StandardScaler()\n",
    "data_standardized = scaler.fit_transform(fuel_efficiency_df)\n",
    "\n",
    "# Perform PCA\n",
    "pca = PCA(n_components=1)  # We want one principal component\n",
    "df['fuel_efficiency'] = pca.fit_transform(data_standardized)\n",
    "\n",
    "print(\"Explained variance ratio:\", pca.explained_variance_ratio_) \n",
    "# If the explained variance ratio is high (e.g., > 0.9), it's safe to drop the original columns."
   ]
  },
  {
   "cell_type": "markdown",
   "metadata": {},
   "source": [
    "Both Standardization & normalization for fuel_efficiency_df have explained variance ratio of over 90%"
   ]
  },
  {
   "cell_type": "code",
   "execution_count": 581,
   "metadata": {},
   "outputs": [],
   "source": [
    "df = df.drop(columns=['citympg', 'highwaympg'])"
   ]
  },
  {
   "cell_type": "code",
   "execution_count": null,
   "metadata": {},
   "outputs": [],
   "source": [
    "# Standardize columns with different scales\n",
    "cols_to_standardize_df = df[['symboling', 'wheelbase', 'carheight', 'curbweight', 'enginesize', 'boreratio', 'horsepower']]\n",
    "\n",
    "# Standardize the data\n",
    "scaler = StandardScaler()\n",
    "df[cols_to_standardize_df.columns] = scaler.fit_transform(cols_to_standardize_df)\n",
    "\n",
    "df.head(2)"
   ]
  },
  {
   "cell_type": "code",
   "execution_count": null,
   "metadata": {},
   "outputs": [],
   "source": [
    "df.columns"
   ]
  },
  {
   "cell_type": "code",
   "execution_count": null,
   "metadata": {},
   "outputs": [],
   "source": [
    "df = df[['BrandName', 'fueltype', 'aspiration', 'carbody', 'drivewheel', 'enginelocation', 'enginetype', 'fuelsystem', \n",
    "         'symboling', 'wheelbase', 'carheight', 'curbweight', 'enginesize', 'boreratio', 'horsepower', 'car_dimension', \n",
    "         'fuel_efficiency', 'price']]\n",
    "\n",
    "df.head(2)"
   ]
  },
  {
   "cell_type": "code",
   "execution_count": 585,
   "metadata": {},
   "outputs": [],
   "source": [
    "categorical_features += ['BrandName']"
   ]
  },
  {
   "cell_type": "code",
   "execution_count": null,
   "metadata": {},
   "outputs": [],
   "source": [
    "print(categorical_features)"
   ]
  },
  {
   "cell_type": "code",
   "execution_count": 587,
   "metadata": {},
   "outputs": [],
   "source": [
    "one_hot_df = pd.get_dummies(df, columns=categorical_features, dtype=int, drop_first=True)"
   ]
  },
  {
   "cell_type": "code",
   "execution_count": null,
   "metadata": {},
   "outputs": [],
   "source": [
    "one_hot_df.sample(2)"
   ]
  },
  {
   "cell_type": "markdown",
   "metadata": {},
   "source": [
    "## Split Dataset"
   ]
  },
  {
   "cell_type": "code",
   "execution_count": 589,
   "metadata": {},
   "outputs": [],
   "source": [
    "X = one_hot_df.drop('price', axis=1)  # Features\n",
    "y = np.log1p(one_hot_df['price'])  # Target variable. Apply log transformation to the target variable"
   ]
  },
  {
   "cell_type": "code",
   "execution_count": 590,
   "metadata": {},
   "outputs": [],
   "source": [
    "# Split into training and testing sets ()\n",
    "X_train, X_test, y_train, y_test = train_test_split(X, y, test_size=0.20, random_state=23)\n",
    "\n",
    "scaler = StandardScaler()\n",
    "X_train_scaled = scaler.fit_transform(X_train)\n",
    "X_test_scaled = scaler.transform(X_test)"
   ]
  },
  {
   "cell_type": "code",
   "execution_count": null,
   "metadata": {},
   "outputs": [],
   "source": [
    "# Check current tracking URI\n",
    "print(\"Tracking URI:\", mlflow.get_tracking_uri())"
   ]
  },
  {
   "cell_type": "code",
   "execution_count": null,
   "metadata": {},
   "outputs": [],
   "source": [
    "# Start MLflow tracking\n",
    "mlflow.set_experiment(\"car_price_prediction\")"
   ]
  },
  {
   "cell_type": "code",
   "execution_count": null,
   "metadata": {},
   "outputs": [],
   "source": [
    "# Model training and logging\n",
    "with mlflow.start_run():  # Start an MLflow run\n",
    "    # Log parameters\n",
    "    mlflow.log_artifact(\"Car_prices.ipynb\")\n",
    "    mlflow.set_tag(\"version\", \"v2.3\")\n",
    "    mlflow.set_tag(\"notes_outliers\", \"Transformed skewed columns to deal with outliers. Scaled all skewed columns except 'price'. Reversed the transformations so the target variable is understandable. Changed how I appended BrandName to categorical features as it wasn't appending properly initially\")\n",
    "    model_params = {\"fit_intercept\": True}\n",
    "    mlflow.log_params(model_params)\n",
    "\n",
    "    # Train the model\n",
    "    model = LinearRegression(**model_params) # Initialize the model\n",
    "    model.fit(X_train_scaled, y_train) # Train the model on training data\n",
    "\n",
    "    # Make predictions\n",
    "    y_pred = model.predict(X_test_scaled)\n",
    "\n",
    "    # Reverse the log transformation to interpret predictions\n",
    "    y_pred = np.expm1(y_pred)\n",
    "\n",
    "    # Calculate metrics\n",
    "    r2 = r2_score(np.expm1(y_test), y_pred)  # Reverse the log transformation for y_test as well\n",
    "    mae = mean_absolute_error(np.expm1(y_test), y_pred)\n",
    "    mse = mean_squared_error(np.expm1(y_test), y_pred)\n",
    "\n",
    "    # Log metrics\n",
    "    mlflow.log_metric(\"R2\", r2)\n",
    "    mlflow.log_metric(\"MAE\", mae)\n",
    "    mlflow.log_metric(\"MSE\", mse)\n",
    "\n",
    "    # Infer the model signature from training data\n",
    "    signature = infer_signature(X_train, model.predict(X_train))\n",
    "\n",
    "    input_example = X.head(1)\n",
    "\n",
    "    # Log the model\n",
    "    mlflow.sklearn.log_model(model, \"car_prediction_linear_regression_model\", input_example=input_example, signature=signature)\n",
    "\n",
    "    print(f\"Logged metrics: R2={r2}, MAE={mae}, MSE={mse}\")\n"
   ]
  },
  {
   "cell_type": "code",
   "execution_count": null,
   "metadata": {},
   "outputs": [],
   "source": [
    "coefficients = pd.DataFrame({\n",
    "    \"Feature\": X_train.columns,\n",
    "    \"Coefficient\": model.coef_\n",
    "}).sort_values(by=\"Coefficient\", ascending=False)\n",
    "\n",
    "print(coefficients)"
   ]
  },
  {
   "cell_type": "code",
   "execution_count": null,
   "metadata": {},
   "outputs": [],
   "source": [
    "y_pred = model.predict(X_test)\n",
    "y_pred"
   ]
  },
  {
   "cell_type": "code",
   "execution_count": null,
   "metadata": {},
   "outputs": [],
   "source": [
    "# Visualization\n",
    "plt.scatter(y_test, y_pred, color=\"aqua\")\n",
    "m, b = np.polyfit(y_test, y_pred, 1)  # Linear fit (degree 1)\n",
    "best_fit_line = m * np.array(y_test) + b\n",
    "\n",
    "# Plot the line of best fit\n",
    "plt.plot(y_test, best_fit_line, color=\"red\", alpha=0.7)\n",
    "\n",
    "# Set x-axis to start from 0\n",
    "plt.xlim(left=0)\n",
    "\n",
    "plt.xlabel(\"Actual Values\")\n",
    "plt.ylabel(\"Predicted Values\")\n",
    "plt.title(\"Actual vs Predicted\")\n",
    "plt.show()"
   ]
  },
  {
   "cell_type": "code",
   "execution_count": null,
   "metadata": {},
   "outputs": [],
   "source": [
    "# Calculate residuals\n",
    "residuals = y_test - y_pred\n",
    "\n",
    "plt.scatter(y_pred, residuals, alpha=0.6)\n",
    "plt.axhline(0, color='red', linestyle='--')  # Reference line at zero\n",
    "plt.title('Predicted Values vs. Residuals')\n",
    "plt.xlabel('Predicted Values')\n",
    "plt.ylabel('Residuals')\n",
    "plt.show()\n"
   ]
  }
 ],
 "metadata": {
  "kernelspec": {
   "display_name": "Python 3",
   "language": "python",
   "name": "python3"
  },
  "language_info": {
   "codemirror_mode": {
    "name": "ipython",
    "version": 3
   },
   "file_extension": ".py",
   "mimetype": "text/x-python",
   "name": "python",
   "nbconvert_exporter": "python",
   "pygments_lexer": "ipython3",
   "version": "3.12.3"
  }
 },
 "nbformat": 4,
 "nbformat_minor": 2
}
