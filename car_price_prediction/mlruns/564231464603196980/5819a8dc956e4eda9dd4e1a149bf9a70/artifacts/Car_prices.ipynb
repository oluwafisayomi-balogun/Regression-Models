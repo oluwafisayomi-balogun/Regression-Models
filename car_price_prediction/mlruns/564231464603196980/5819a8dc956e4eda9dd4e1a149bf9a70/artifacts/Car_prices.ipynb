{
 "cells": [
  {
   "cell_type": "markdown",
   "metadata": {},
   "source": [
    "# Predict car prices"
   ]
  },
  {
   "cell_type": "markdown",
   "metadata": {},
   "source": [
    "### Problem Statement\n",
    "\n",
    "A Chinese automobile company Geely Auto aspires to enter the US market by setting up their manufacturing unit there and producing cars locally to give competition to their US and European counterparts.\n",
    "\n",
    "They have contracted an automobile consulting company to understand the factors on which the pricing of cars depends. Specifically, they want to understand the factors affecting the pricing of cars in the American market, since those may be very different from the Chinese market. The company wants to know:\n",
    "1. Which variables are significant in predicting the price of a car\n",
    "2. How well those variables describe the price of a car\n",
    "\n",
    "Based on various market surveys, the consulting firm has gathered a large data set of different types of cars across the America market.\n",
    "\n",
    "### Business Goal\n",
    "We are required to model the price of cars with the available independent variables. It will be used by the management to understand how exactly the prices vary with the independent variables. \n",
    "\n",
    "They can accordingly manipulate the design of the cars, the business strategy etc. to meet certain price levels. <br /> \n",
    "Further, the model will be a good way for management to understand the pricing dynamics of a new market."
   ]
  },
  {
   "cell_type": "code",
   "execution_count": 792,
   "metadata": {},
   "outputs": [],
   "source": [
    "# mlflow ui --host 127.0.0.1 --port 5000\n",
    "# run above in terminal"
   ]
  },
  {
   "cell_type": "code",
   "execution_count": 793,
   "metadata": {},
   "outputs": [],
   "source": [
    "# Import necessary libraries\n",
    "import kagglehub\n",
    "import shutil\n",
    "import os\n",
    "import pandas as pd\n",
    "import numpy as np\n",
    "from sklearn.model_selection import train_test_split  # For splitting data\n",
    "from sklearn.linear_model import LinearRegression  # Linear regression model\n",
    "import warnings\n",
    "warnings.filterwarnings(\"ignore\")\n",
    "from sklearn.metrics import mean_absolute_error, mean_squared_error, r2_score\n",
    "import matplotlib.pyplot as plt\n",
    "pd.set_option(\"display.max_columns\", None)\n",
    "pd.set_option(\"display.max_rows\", None)\n",
    "import seaborn as sns\n",
    "from sklearn.decomposition import PCA\n",
    "from sklearn.preprocessing import StandardScaler\n",
    "import mlflow\n",
    "import mlflow.sklearn\n",
    "from mlflow.models.signature import infer_signature\n",
    "from scipy.stats import skew\n",
    "from sklearn.preprocessing import RobustScaler\n",
    "from sklearn.ensemble import RandomForestRegressor\n",
    "import tempfile\n"
   ]
  },
  {
   "cell_type": "code",
   "execution_count": 794,
   "metadata": {},
   "outputs": [],
   "source": [
    "# # Download latest version\n",
    "# path = kagglehub.dataset_download(\"hellbuoy/car-price-prediction\")\n",
    "# # print(\"Path to dataset files:\", path)\n",
    "\n",
    "# # Define a new visible folder\n",
    "# destination_path = \"/Users/user/Desktop/Portfolio/ML/Kaggle_datasets\"\n",
    "# os.makedirs(destination_path, exist_ok=True)\n",
    "\n",
    "# # Move all files from the hidden folder to the new location\n",
    "# for file_name in os.listdir(path):\n",
    "#     print(file_name)\n",
    "#     shutil.move(os.path.join(path, file_name), destination_path)\n",
    "\n",
    "\n",
    "# print(\"Dataset moved to:\", destination_path)"
   ]
  },
  {
   "cell_type": "code",
   "execution_count": 795,
   "metadata": {},
   "outputs": [],
   "source": [
    "# data_dict = {\n",
    "#     \"variable\": [\n",
    "#         \"Car_ID\", \"Symboling\", \"carCompany\", \"fueltype\", \"aspiration\", \"doornumber\",\n",
    "#         \"carbody\", \"drivewheel\", \"enginelocation\", \"wheelbase\", \"carlength\",\n",
    "#         \"carwidth\", \"carheight\", \"curbweight\", \"enginetype\", \"cylindernumber\",\n",
    "#         \"enginesize\", \"fuelsystem\", \"boreratio\", \"stroke\", \"compressionratio\",\n",
    "#         \"horsepower\", \"peakrpm\", \"citympg\", \"highwaympg\", \"price\"\n",
    "#     ],\n",
    "#     \"description\": [\n",
    "#         \"Unique id of each observation (Integer)\",\n",
    "#         \"Its assigned insurance risk rating. A value of +3 indicates that the auto is risky, -3 that it is probably pretty safe. (Categorical)\",\n",
    "#         \"Name of car company (Categorical)\",\n",
    "#         \"Car fuel type i.e. gas or diesel (Categorical)\",\n",
    "#         \"Aspiration used in a car (Categorical)\",\n",
    "#         \"Number of doors in a car (Categorical)\",\n",
    "#         \"Body of car (Categorical)\",\n",
    "#         \"Type of drive wheel (Categorical)\",\n",
    "#         \"Location of car engine (Categorical)\",\n",
    "#         \"Wheelbase of car (Numeric)\",\n",
    "#         \"Length of car (Numeric)\",\n",
    "#         \"Width of car (Numeric)\",\n",
    "#         \"Height of car (Numeric)\",\n",
    "#         \"The weight of a car without occupants or baggage. (Numeric)\",\n",
    "#         \"Type of engine (Categorical)\",\n",
    "#         \"Cylinder placed in the car (Categorical)\",\n",
    "#         \"Size of car (Numeric)\",\n",
    "#         \"Fuel system of car (Categorical)\",\n",
    "#         \"Boreratio of car (Numeric)\",\n",
    "#         \"Stroke or volume inside the engine (Numeric)\",\n",
    "#         \"Compression ratio of car (Numeric)\",\n",
    "#         \"Horsepower (Numeric)\",\n",
    "#         \"Car peak rpm (Numeric)\",\n",
    "#         \"Mileage in city (Numeric)\",\n",
    "#         \"Mileage on highway (Numeric)\",\n",
    "#         \"Price of car (Numeric)\"\n",
    "#     ]\n",
    "# }\n",
    "\n",
    "# # Converting the dictionary to a pandas DataFrame\n",
    "# df_data_dict = pd.DataFrame(data_dict)\n",
    "# df_data_dict.to_csv('/Users/user/Desktop/Portfolio/ML/Kaggle_datasets/CarPrice/data_dict.csv', index=False)"
   ]
  },
  {
   "cell_type": "code",
   "execution_count": 796,
   "metadata": {},
   "outputs": [],
   "source": [
    "# # A DataFrame for the data dictionary based on \"/Users/user/Desktop/Portfolio/ML/Kaggle_datasets/CarPrice\"\n",
    "# # Also https://archive.ics.uci.edu/dataset/10/automobile\n",
    "\n",
    "# data_dict = pd.read_csv('/Users/user/Desktop/Portfolio/ML/Kaggle_datasets/CarPrice/data_dict.csv')\n",
    "# data_dict"
   ]
  },
  {
   "cell_type": "markdown",
   "metadata": {},
   "source": [
    "Add 2 more columns to the car to describe \n",
    "1. The influence of each description\n",
    "2. full meanings of abbreviations if important"
   ]
  },
  {
   "cell_type": "code",
   "execution_count": 797,
   "metadata": {},
   "outputs": [],
   "source": [
    "# additional_data_dict = { \"influence\": [\n",
    "#         \"No direct influence; identifier column.\",\n",
    "#         \"Lower symboling values are safer; -3 is safest.\",\n",
    "#         \"Car company can influence brand perception and price.\",\n",
    "#         \"Diesel is often more fuel-efficient; gas has better acceleration.\",\n",
    "#         \"Std (naturally aspirated) is simpler, cheaper, and more reliable. Turbo gives more power but may require more maintenance.\",\n",
    "#         \"4 doors are typically more practical than 2 doors.\",\n",
    "#         \"Carbody affects style, space, and aerodynamics.\",\n",
    "#         \"Drivewheel affects traction and handling (e.g., 4WD is better for off-road).\",\n",
    "#         \"Front-engine layout is common and efficient; rear-engine provides unique balance and handling.\",\n",
    "#         \"Longer wheelbase improves stability; shorter wheelbase increases agility.\",\n",
    "#         \"Longer cars often have more interior space.\",\n",
    "#         \"Wider cars offer better stability and comfort.\",\n",
    "#         \"Taller cars may provide more headroom but higher center of gravity.\",\n",
    "#         \"Higher curb weight often means better stability but worse fuel efficiency.\",\n",
    "#         \"Enginetype affects performance and maintenance complexity.\",\n",
    "#         \"More cylinders generally mean more power but less fuel efficiency.\",\n",
    "#         \"Larger engines provide more power but consume more fuel.\",\n",
    "#         \"Fuelsystem influences performance and fuel efficiency; e.g., mpfi is more advanced than carburetors.\",\n",
    "#         \"Higher boreratio can increase RPMs, favoring performance.\",\n",
    "#         \"Larger stroke generally increases torque, favoring efficiency.\",\n",
    "#         \"Higher compression ratio improves power and efficiency but requires high-octane fuel.\",\n",
    "#         \"Higher horsepower means better acceleration and performance.\",\n",
    "#         \"Higher peakrpm allows for more power at high speeds.\",\n",
    "#         \"Higher citympg indicates better urban fuel efficiency.\",\n",
    "#         \"Higher highwaympg indicates better fuel efficiency for long trips.\",\n",
    "#         \"Higher price reflects better quality, features, or brand value.\"\n",
    "#     ],\n",
    "#     \"full_meanings\": [\n",
    "#         \"N/A\",\n",
    "#         \"Insurance risk rating: +3 (high risk) to -3 (low risk).\",\n",
    "#         \"N/A\",\n",
    "#         \"Fuel type: 'gas' (gasoline) or 'diesel'.\",\n",
    "#         \"'Aspiration': 'std' (naturally aspirated) or 'turbo' (turbocharged).\",\n",
    "#         \"Number of doors: '2' or '4'.\",\n",
    "#         \"Car body styles: sedan, hatchback, etc.\",\n",
    "#         \"Drive wheel types: 'fwd' (front-wheel drive), 'rwd' (rear-wheel drive), '4wd' (four-wheel drive).\",\n",
    "#         \"Engine location: front or rear.\",\n",
    "#         \"Wheelbase: Distance between front and rear axles (inches).\",\n",
    "#         \"Car length: Bumper-to-bumper length (inches).\",\n",
    "#         \"Car width: Side-to-side width (inches).\",\n",
    "#         \"Car height: Ground to roof height (inches).\",\n",
    "#         \"Curb weight: Car weight without passengers or luggage (pounds).\",\n",
    "#         \"Engine types: 'dohc', 'ohc', etc.\",\n",
    "#         \"Number of cylinders in the engine.\",\n",
    "#         \"Engine displacement size (cc).\",\n",
    "#         \"Fuel system: e.g., 'mpfi' (multi-point fuel injection), '2bbl' (2-barrel carburetor).\",\n",
    "#         \"Boreratio: Cylinder diameter to stroke length ratio.\",\n",
    "#         \"Stroke: Distance a piston moves inside the cylinder (inches).\",\n",
    "#         \"Compression ratio: Ratio of cylinder volume at BDC to TDC.\",\n",
    "#         \"Horsepower: Engine power output (hp).\",\n",
    "#         \"Peak revolutions per minute (RPM) the engine can reach.\",\n",
    "#         \"City miles per gallon (mpg).\",\n",
    "#         \"Highway miles per gallon (mpg).\",\n",
    "#         \"Car price (USD).\"\n",
    "#     ]\n",
    "# }\n",
    "\n",
    "# # Converting the dictionary to a pandas DataFrame\n",
    "# additional_df_data_dict = pd.DataFrame(additional_data_dict)"
   ]
  },
  {
   "cell_type": "code",
   "execution_count": 798,
   "metadata": {},
   "outputs": [],
   "source": [
    "# dfs = [df_data_dict, additional_df_data_dict]\n",
    "# all_df = pd.concat(dfs, axis=1)\n",
    "# all_df\n",
    "# # Units are defaulted to US metrics as the data is a US data "
   ]
  },
  {
   "cell_type": "code",
   "execution_count": 799,
   "metadata": {},
   "outputs": [],
   "source": [
    "# # Update csv\n",
    "# all_df.to_csv('/Users/user/Desktop/Portfolio/ML/Kaggle_datasets/CarPrice/data_dict.csv', index=False)"
   ]
  },
  {
   "cell_type": "code",
   "execution_count": 800,
   "metadata": {},
   "outputs": [],
   "source": [
    "# # Set Pandas to display full column content\n",
    "# pd.set_option('display.max_colwidth', None)\n",
    "# all_data_dict_df = pd.read_csv(\"/Users/user/Desktop/Portfolio/ML/Kaggle_datasets/CarPrice/data_dict.csv\")\n",
    "# all_data_dict_df"
   ]
  },
  {
   "cell_type": "code",
   "execution_count": 801,
   "metadata": {},
   "outputs": [],
   "source": [
    "pd.reset_option('display.max_colwidth')"
   ]
  },
  {
   "cell_type": "markdown",
   "metadata": {},
   "source": [
    "## Cleaning"
   ]
  },
  {
   "cell_type": "code",
   "execution_count": 802,
   "metadata": {},
   "outputs": [
    {
     "data": {
      "text/html": [
       "<div>\n",
       "<style scoped>\n",
       "    .dataframe tbody tr th:only-of-type {\n",
       "        vertical-align: middle;\n",
       "    }\n",
       "\n",
       "    .dataframe tbody tr th {\n",
       "        vertical-align: top;\n",
       "    }\n",
       "\n",
       "    .dataframe thead th {\n",
       "        text-align: right;\n",
       "    }\n",
       "</style>\n",
       "<table border=\"1\" class=\"dataframe\">\n",
       "  <thead>\n",
       "    <tr style=\"text-align: right;\">\n",
       "      <th></th>\n",
       "      <th>car_ID</th>\n",
       "      <th>symboling</th>\n",
       "      <th>CarName</th>\n",
       "      <th>fueltype</th>\n",
       "      <th>aspiration</th>\n",
       "      <th>doornumber</th>\n",
       "      <th>carbody</th>\n",
       "      <th>drivewheel</th>\n",
       "      <th>enginelocation</th>\n",
       "      <th>wheelbase</th>\n",
       "      <th>carlength</th>\n",
       "      <th>carwidth</th>\n",
       "      <th>carheight</th>\n",
       "      <th>curbweight</th>\n",
       "      <th>enginetype</th>\n",
       "      <th>cylindernumber</th>\n",
       "      <th>enginesize</th>\n",
       "      <th>fuelsystem</th>\n",
       "      <th>boreratio</th>\n",
       "      <th>stroke</th>\n",
       "      <th>compressionratio</th>\n",
       "      <th>horsepower</th>\n",
       "      <th>peakrpm</th>\n",
       "      <th>citympg</th>\n",
       "      <th>highwaympg</th>\n",
       "      <th>price</th>\n",
       "    </tr>\n",
       "  </thead>\n",
       "  <tbody>\n",
       "    <tr>\n",
       "      <th>0</th>\n",
       "      <td>1</td>\n",
       "      <td>3</td>\n",
       "      <td>alfa-romero giulia</td>\n",
       "      <td>gas</td>\n",
       "      <td>std</td>\n",
       "      <td>two</td>\n",
       "      <td>convertible</td>\n",
       "      <td>rwd</td>\n",
       "      <td>front</td>\n",
       "      <td>88.6</td>\n",
       "      <td>168.8</td>\n",
       "      <td>64.1</td>\n",
       "      <td>48.8</td>\n",
       "      <td>2548</td>\n",
       "      <td>dohc</td>\n",
       "      <td>four</td>\n",
       "      <td>130</td>\n",
       "      <td>mpfi</td>\n",
       "      <td>3.47</td>\n",
       "      <td>2.68</td>\n",
       "      <td>9.0</td>\n",
       "      <td>111</td>\n",
       "      <td>5000</td>\n",
       "      <td>21</td>\n",
       "      <td>27</td>\n",
       "      <td>13495.0</td>\n",
       "    </tr>\n",
       "    <tr>\n",
       "      <th>1</th>\n",
       "      <td>2</td>\n",
       "      <td>3</td>\n",
       "      <td>alfa-romero stelvio</td>\n",
       "      <td>gas</td>\n",
       "      <td>std</td>\n",
       "      <td>two</td>\n",
       "      <td>convertible</td>\n",
       "      <td>rwd</td>\n",
       "      <td>front</td>\n",
       "      <td>88.6</td>\n",
       "      <td>168.8</td>\n",
       "      <td>64.1</td>\n",
       "      <td>48.8</td>\n",
       "      <td>2548</td>\n",
       "      <td>dohc</td>\n",
       "      <td>four</td>\n",
       "      <td>130</td>\n",
       "      <td>mpfi</td>\n",
       "      <td>3.47</td>\n",
       "      <td>2.68</td>\n",
       "      <td>9.0</td>\n",
       "      <td>111</td>\n",
       "      <td>5000</td>\n",
       "      <td>21</td>\n",
       "      <td>27</td>\n",
       "      <td>16500.0</td>\n",
       "    </tr>\n",
       "  </tbody>\n",
       "</table>\n",
       "</div>"
      ],
      "text/plain": [
       "   car_ID  symboling              CarName fueltype aspiration doornumber  \\\n",
       "0       1          3   alfa-romero giulia      gas        std        two   \n",
       "1       2          3  alfa-romero stelvio      gas        std        two   \n",
       "\n",
       "       carbody drivewheel enginelocation  wheelbase  carlength  carwidth  \\\n",
       "0  convertible        rwd          front       88.6      168.8      64.1   \n",
       "1  convertible        rwd          front       88.6      168.8      64.1   \n",
       "\n",
       "   carheight  curbweight enginetype cylindernumber  enginesize fuelsystem  \\\n",
       "0       48.8        2548       dohc           four         130       mpfi   \n",
       "1       48.8        2548       dohc           four         130       mpfi   \n",
       "\n",
       "   boreratio  stroke  compressionratio  horsepower  peakrpm  citympg  \\\n",
       "0       3.47    2.68               9.0         111     5000       21   \n",
       "1       3.47    2.68               9.0         111     5000       21   \n",
       "\n",
       "   highwaympg    price  \n",
       "0          27  13495.0  \n",
       "1          27  16500.0  "
      ]
     },
     "execution_count": 802,
     "metadata": {},
     "output_type": "execute_result"
    }
   ],
   "source": [
    "df = pd.read_csv('/Users/user/Desktop/Portfolio/ML/Kaggle_datasets/CarPrice/CarPrice_Assignment.csv')\n",
    "df.head(2)"
   ]
  },
  {
   "cell_type": "code",
   "execution_count": 803,
   "metadata": {},
   "outputs": [
    {
     "data": {
      "text/html": [
       "<div>\n",
       "<style scoped>\n",
       "    .dataframe tbody tr th:only-of-type {\n",
       "        vertical-align: middle;\n",
       "    }\n",
       "\n",
       "    .dataframe tbody tr th {\n",
       "        vertical-align: top;\n",
       "    }\n",
       "\n",
       "    .dataframe thead th {\n",
       "        text-align: right;\n",
       "    }\n",
       "</style>\n",
       "<table border=\"1\" class=\"dataframe\">\n",
       "  <thead>\n",
       "    <tr style=\"text-align: right;\">\n",
       "      <th></th>\n",
       "      <th>car_ID</th>\n",
       "      <th>symboling</th>\n",
       "      <th>CarName</th>\n",
       "      <th>fueltype</th>\n",
       "      <th>aspiration</th>\n",
       "      <th>doornumber</th>\n",
       "      <th>carbody</th>\n",
       "      <th>drivewheel</th>\n",
       "      <th>enginelocation</th>\n",
       "      <th>wheelbase</th>\n",
       "      <th>carlength</th>\n",
       "      <th>carwidth</th>\n",
       "      <th>carheight</th>\n",
       "      <th>curbweight</th>\n",
       "      <th>enginetype</th>\n",
       "      <th>cylindernumber</th>\n",
       "      <th>enginesize</th>\n",
       "      <th>fuelsystem</th>\n",
       "      <th>boreratio</th>\n",
       "      <th>stroke</th>\n",
       "      <th>compressionratio</th>\n",
       "      <th>horsepower</th>\n",
       "      <th>peakrpm</th>\n",
       "      <th>citympg</th>\n",
       "      <th>highwaympg</th>\n",
       "      <th>price</th>\n",
       "    </tr>\n",
       "  </thead>\n",
       "  <tbody>\n",
       "    <tr>\n",
       "      <th>98</th>\n",
       "      <td>99</td>\n",
       "      <td>2</td>\n",
       "      <td>nissan clipper</td>\n",
       "      <td>gas</td>\n",
       "      <td>std</td>\n",
       "      <td>two</td>\n",
       "      <td>hardtop</td>\n",
       "      <td>fwd</td>\n",
       "      <td>front</td>\n",
       "      <td>95.1</td>\n",
       "      <td>162.4</td>\n",
       "      <td>63.8</td>\n",
       "      <td>53.3</td>\n",
       "      <td>2008</td>\n",
       "      <td>ohc</td>\n",
       "      <td>four</td>\n",
       "      <td>97</td>\n",
       "      <td>2bbl</td>\n",
       "      <td>3.15</td>\n",
       "      <td>3.29</td>\n",
       "      <td>9.4</td>\n",
       "      <td>69</td>\n",
       "      <td>5200</td>\n",
       "      <td>31</td>\n",
       "      <td>37</td>\n",
       "      <td>8249.0</td>\n",
       "    </tr>\n",
       "    <tr>\n",
       "      <th>34</th>\n",
       "      <td>35</td>\n",
       "      <td>1</td>\n",
       "      <td>honda civic cvcc</td>\n",
       "      <td>gas</td>\n",
       "      <td>std</td>\n",
       "      <td>two</td>\n",
       "      <td>hatchback</td>\n",
       "      <td>fwd</td>\n",
       "      <td>front</td>\n",
       "      <td>93.7</td>\n",
       "      <td>150.0</td>\n",
       "      <td>64.0</td>\n",
       "      <td>52.6</td>\n",
       "      <td>1956</td>\n",
       "      <td>ohc</td>\n",
       "      <td>four</td>\n",
       "      <td>92</td>\n",
       "      <td>1bbl</td>\n",
       "      <td>2.91</td>\n",
       "      <td>3.41</td>\n",
       "      <td>9.2</td>\n",
       "      <td>76</td>\n",
       "      <td>6000</td>\n",
       "      <td>30</td>\n",
       "      <td>34</td>\n",
       "      <td>7129.0</td>\n",
       "    </tr>\n",
       "    <tr>\n",
       "      <th>113</th>\n",
       "      <td>114</td>\n",
       "      <td>0</td>\n",
       "      <td>peugeot 504</td>\n",
       "      <td>gas</td>\n",
       "      <td>std</td>\n",
       "      <td>four</td>\n",
       "      <td>wagon</td>\n",
       "      <td>rwd</td>\n",
       "      <td>front</td>\n",
       "      <td>114.2</td>\n",
       "      <td>198.9</td>\n",
       "      <td>68.4</td>\n",
       "      <td>56.7</td>\n",
       "      <td>3285</td>\n",
       "      <td>l</td>\n",
       "      <td>four</td>\n",
       "      <td>120</td>\n",
       "      <td>mpfi</td>\n",
       "      <td>3.46</td>\n",
       "      <td>2.19</td>\n",
       "      <td>8.4</td>\n",
       "      <td>95</td>\n",
       "      <td>5000</td>\n",
       "      <td>19</td>\n",
       "      <td>24</td>\n",
       "      <td>16695.0</td>\n",
       "    </tr>\n",
       "  </tbody>\n",
       "</table>\n",
       "</div>"
      ],
      "text/plain": [
       "     car_ID  symboling           CarName fueltype aspiration doornumber  \\\n",
       "98       99          2    nissan clipper      gas        std        two   \n",
       "34       35          1  honda civic cvcc      gas        std        two   \n",
       "113     114          0       peugeot 504      gas        std       four   \n",
       "\n",
       "       carbody drivewheel enginelocation  wheelbase  carlength  carwidth  \\\n",
       "98     hardtop        fwd          front       95.1      162.4      63.8   \n",
       "34   hatchback        fwd          front       93.7      150.0      64.0   \n",
       "113      wagon        rwd          front      114.2      198.9      68.4   \n",
       "\n",
       "     carheight  curbweight enginetype cylindernumber  enginesize fuelsystem  \\\n",
       "98        53.3        2008        ohc           four          97       2bbl   \n",
       "34        52.6        1956        ohc           four          92       1bbl   \n",
       "113       56.7        3285          l           four         120       mpfi   \n",
       "\n",
       "     boreratio  stroke  compressionratio  horsepower  peakrpm  citympg  \\\n",
       "98        3.15    3.29               9.4          69     5200       31   \n",
       "34        2.91    3.41               9.2          76     6000       30   \n",
       "113       3.46    2.19               8.4          95     5000       19   \n",
       "\n",
       "     highwaympg    price  \n",
       "98           37   8249.0  \n",
       "34           34   7129.0  \n",
       "113          24  16695.0  "
      ]
     },
     "execution_count": 803,
     "metadata": {},
     "output_type": "execute_result"
    }
   ],
   "source": [
    "df.sample(3)"
   ]
  },
  {
   "cell_type": "code",
   "execution_count": 804,
   "metadata": {},
   "outputs": [
    {
     "name": "stdout",
     "output_type": "stream",
     "text": [
      "<class 'pandas.core.frame.DataFrame'>\n",
      "RangeIndex: 205 entries, 0 to 204\n",
      "Data columns (total 26 columns):\n",
      " #   Column            Non-Null Count  Dtype  \n",
      "---  ------            --------------  -----  \n",
      " 0   car_ID            205 non-null    int64  \n",
      " 1   symboling         205 non-null    int64  \n",
      " 2   CarName           205 non-null    object \n",
      " 3   fueltype          205 non-null    object \n",
      " 4   aspiration        205 non-null    object \n",
      " 5   doornumber        205 non-null    object \n",
      " 6   carbody           205 non-null    object \n",
      " 7   drivewheel        205 non-null    object \n",
      " 8   enginelocation    205 non-null    object \n",
      " 9   wheelbase         205 non-null    float64\n",
      " 10  carlength         205 non-null    float64\n",
      " 11  carwidth          205 non-null    float64\n",
      " 12  carheight         205 non-null    float64\n",
      " 13  curbweight        205 non-null    int64  \n",
      " 14  enginetype        205 non-null    object \n",
      " 15  cylindernumber    205 non-null    object \n",
      " 16  enginesize        205 non-null    int64  \n",
      " 17  fuelsystem        205 non-null    object \n",
      " 18  boreratio         205 non-null    float64\n",
      " 19  stroke            205 non-null    float64\n",
      " 20  compressionratio  205 non-null    float64\n",
      " 21  horsepower        205 non-null    int64  \n",
      " 22  peakrpm           205 non-null    int64  \n",
      " 23  citympg           205 non-null    int64  \n",
      " 24  highwaympg        205 non-null    int64  \n",
      " 25  price             205 non-null    float64\n",
      "dtypes: float64(8), int64(8), object(10)\n",
      "memory usage: 41.8+ KB\n"
     ]
    }
   ],
   "source": [
    "df.info()\n",
    "# No empty rows/values"
   ]
  },
  {
   "cell_type": "code",
   "execution_count": 805,
   "metadata": {},
   "outputs": [
    {
     "name": "stdout",
     "output_type": "stream",
     "text": [
      "Category in fueltype is : ['gas' 'diesel']\n",
      "Category in aspiration is : ['std' 'turbo']\n",
      "Category in doornumber is : ['two' 'four']\n",
      "Category in carbody is : ['convertible' 'hatchback' 'sedan' 'wagon' 'hardtop']\n",
      "Category in drivewheel is : ['rwd' 'fwd' '4wd']\n",
      "Category in enginelocation is : ['front' 'rear']\n",
      "Category in enginetype is : ['dohc' 'ohcv' 'ohc' 'l' 'rotor' 'ohcf' 'dohcv']\n",
      "Category in cylindernumber is : ['four' 'six' 'five' 'three' 'twelve' 'two' 'eight']\n",
      "Category in fuelsystem is : ['mpfi' '2bbl' 'mfi' '1bbl' 'spfi' '4bbl' 'idi' 'spdi']\n"
     ]
    }
   ],
   "source": [
    "categorical_columns = ['fueltype', 'aspiration', 'doornumber', 'carbody', 'drivewheel', 'enginelocation', 'enginetype', 'cylindernumber', 'fuelsystem']\n",
    "\n",
    "for col in categorical_columns:\n",
    "    print(f\"Category in {col} is : {df[col].unique()}\")"
   ]
  },
  {
   "cell_type": "code",
   "execution_count": 806,
   "metadata": {},
   "outputs": [],
   "source": [
    "number_map = {'two':2, 'three':3, 'four':4, 'five':5, 'six':6, 'eight':8, 'twelve':12}"
   ]
  },
  {
   "cell_type": "code",
   "execution_count": 807,
   "metadata": {},
   "outputs": [],
   "source": [
    "df.replace({\"cylindernumber\": number_map},inplace=True)\n",
    "df.replace({\"doornumber\": number_map},inplace=True)"
   ]
  },
  {
   "cell_type": "code",
   "execution_count": 808,
   "metadata": {},
   "outputs": [
    {
     "data": {
      "text/html": [
       "<div>\n",
       "<style scoped>\n",
       "    .dataframe tbody tr th:only-of-type {\n",
       "        vertical-align: middle;\n",
       "    }\n",
       "\n",
       "    .dataframe tbody tr th {\n",
       "        vertical-align: top;\n",
       "    }\n",
       "\n",
       "    .dataframe thead th {\n",
       "        text-align: right;\n",
       "    }\n",
       "</style>\n",
       "<table border=\"1\" class=\"dataframe\">\n",
       "  <thead>\n",
       "    <tr style=\"text-align: right;\">\n",
       "      <th></th>\n",
       "      <th>car_ID</th>\n",
       "      <th>symboling</th>\n",
       "      <th>CarName</th>\n",
       "      <th>fueltype</th>\n",
       "      <th>aspiration</th>\n",
       "      <th>doornumber</th>\n",
       "      <th>carbody</th>\n",
       "      <th>drivewheel</th>\n",
       "      <th>enginelocation</th>\n",
       "      <th>wheelbase</th>\n",
       "      <th>carlength</th>\n",
       "      <th>carwidth</th>\n",
       "      <th>carheight</th>\n",
       "      <th>curbweight</th>\n",
       "      <th>enginetype</th>\n",
       "      <th>cylindernumber</th>\n",
       "      <th>enginesize</th>\n",
       "      <th>fuelsystem</th>\n",
       "      <th>boreratio</th>\n",
       "      <th>stroke</th>\n",
       "      <th>compressionratio</th>\n",
       "      <th>horsepower</th>\n",
       "      <th>peakrpm</th>\n",
       "      <th>citympg</th>\n",
       "      <th>highwaympg</th>\n",
       "      <th>price</th>\n",
       "    </tr>\n",
       "  </thead>\n",
       "  <tbody>\n",
       "    <tr>\n",
       "      <th>0</th>\n",
       "      <td>1</td>\n",
       "      <td>3</td>\n",
       "      <td>alfa-romero giulia</td>\n",
       "      <td>gas</td>\n",
       "      <td>std</td>\n",
       "      <td>2</td>\n",
       "      <td>convertible</td>\n",
       "      <td>rwd</td>\n",
       "      <td>front</td>\n",
       "      <td>88.6</td>\n",
       "      <td>168.8</td>\n",
       "      <td>64.1</td>\n",
       "      <td>48.8</td>\n",
       "      <td>2548</td>\n",
       "      <td>dohc</td>\n",
       "      <td>4</td>\n",
       "      <td>130</td>\n",
       "      <td>mpfi</td>\n",
       "      <td>3.47</td>\n",
       "      <td>2.68</td>\n",
       "      <td>9.0</td>\n",
       "      <td>111</td>\n",
       "      <td>5000</td>\n",
       "      <td>21</td>\n",
       "      <td>27</td>\n",
       "      <td>13495.0</td>\n",
       "    </tr>\n",
       "    <tr>\n",
       "      <th>1</th>\n",
       "      <td>2</td>\n",
       "      <td>3</td>\n",
       "      <td>alfa-romero stelvio</td>\n",
       "      <td>gas</td>\n",
       "      <td>std</td>\n",
       "      <td>2</td>\n",
       "      <td>convertible</td>\n",
       "      <td>rwd</td>\n",
       "      <td>front</td>\n",
       "      <td>88.6</td>\n",
       "      <td>168.8</td>\n",
       "      <td>64.1</td>\n",
       "      <td>48.8</td>\n",
       "      <td>2548</td>\n",
       "      <td>dohc</td>\n",
       "      <td>4</td>\n",
       "      <td>130</td>\n",
       "      <td>mpfi</td>\n",
       "      <td>3.47</td>\n",
       "      <td>2.68</td>\n",
       "      <td>9.0</td>\n",
       "      <td>111</td>\n",
       "      <td>5000</td>\n",
       "      <td>21</td>\n",
       "      <td>27</td>\n",
       "      <td>16500.0</td>\n",
       "    </tr>\n",
       "  </tbody>\n",
       "</table>\n",
       "</div>"
      ],
      "text/plain": [
       "   car_ID  symboling              CarName fueltype aspiration  doornumber  \\\n",
       "0       1          3   alfa-romero giulia      gas        std           2   \n",
       "1       2          3  alfa-romero stelvio      gas        std           2   \n",
       "\n",
       "       carbody drivewheel enginelocation  wheelbase  carlength  carwidth  \\\n",
       "0  convertible        rwd          front       88.6      168.8      64.1   \n",
       "1  convertible        rwd          front       88.6      168.8      64.1   \n",
       "\n",
       "   carheight  curbweight enginetype  cylindernumber  enginesize fuelsystem  \\\n",
       "0       48.8        2548       dohc               4         130       mpfi   \n",
       "1       48.8        2548       dohc               4         130       mpfi   \n",
       "\n",
       "   boreratio  stroke  compressionratio  horsepower  peakrpm  citympg  \\\n",
       "0       3.47    2.68               9.0         111     5000       21   \n",
       "1       3.47    2.68               9.0         111     5000       21   \n",
       "\n",
       "   highwaympg    price  \n",
       "0          27  13495.0  \n",
       "1          27  16500.0  "
      ]
     },
     "execution_count": 808,
     "metadata": {},
     "output_type": "execute_result"
    }
   ],
   "source": [
    "df.head(2)"
   ]
  },
  {
   "cell_type": "code",
   "execution_count": 809,
   "metadata": {},
   "outputs": [],
   "source": [
    "df['CarName'] = df['CarName'].apply(lambda col: col.lower())\n",
    "df.insert(3, 'BrandName', '')\n",
    "\n",
    "# Extract the first word from Car Name\n",
    "df['BrandName'] = df['CarName'].apply(lambda x: str(x).split(' ', 1)[0])"
   ]
  },
  {
   "cell_type": "code",
   "execution_count": 810,
   "metadata": {},
   "outputs": [
    {
     "data": {
      "text/html": [
       "<div>\n",
       "<style scoped>\n",
       "    .dataframe tbody tr th:only-of-type {\n",
       "        vertical-align: middle;\n",
       "    }\n",
       "\n",
       "    .dataframe tbody tr th {\n",
       "        vertical-align: top;\n",
       "    }\n",
       "\n",
       "    .dataframe thead th {\n",
       "        text-align: right;\n",
       "    }\n",
       "</style>\n",
       "<table border=\"1\" class=\"dataframe\">\n",
       "  <thead>\n",
       "    <tr style=\"text-align: right;\">\n",
       "      <th></th>\n",
       "      <th>car_ID</th>\n",
       "      <th>symboling</th>\n",
       "      <th>CarName</th>\n",
       "      <th>BrandName</th>\n",
       "      <th>fueltype</th>\n",
       "      <th>aspiration</th>\n",
       "      <th>doornumber</th>\n",
       "      <th>carbody</th>\n",
       "      <th>drivewheel</th>\n",
       "      <th>enginelocation</th>\n",
       "      <th>wheelbase</th>\n",
       "      <th>carlength</th>\n",
       "      <th>carwidth</th>\n",
       "      <th>carheight</th>\n",
       "      <th>curbweight</th>\n",
       "      <th>enginetype</th>\n",
       "      <th>cylindernumber</th>\n",
       "      <th>enginesize</th>\n",
       "      <th>fuelsystem</th>\n",
       "      <th>boreratio</th>\n",
       "      <th>stroke</th>\n",
       "      <th>compressionratio</th>\n",
       "      <th>horsepower</th>\n",
       "      <th>peakrpm</th>\n",
       "      <th>citympg</th>\n",
       "      <th>highwaympg</th>\n",
       "      <th>price</th>\n",
       "    </tr>\n",
       "  </thead>\n",
       "  <tbody>\n",
       "    <tr>\n",
       "      <th>29</th>\n",
       "      <td>30</td>\n",
       "      <td>3</td>\n",
       "      <td>dodge coronet custom (sw)</td>\n",
       "      <td>dodge</td>\n",
       "      <td>gas</td>\n",
       "      <td>turbo</td>\n",
       "      <td>2</td>\n",
       "      <td>hatchback</td>\n",
       "      <td>fwd</td>\n",
       "      <td>front</td>\n",
       "      <td>95.9</td>\n",
       "      <td>173.2</td>\n",
       "      <td>66.3</td>\n",
       "      <td>50.2</td>\n",
       "      <td>2811</td>\n",
       "      <td>ohc</td>\n",
       "      <td>4</td>\n",
       "      <td>156</td>\n",
       "      <td>mfi</td>\n",
       "      <td>3.60</td>\n",
       "      <td>3.90</td>\n",
       "      <td>7.0</td>\n",
       "      <td>145</td>\n",
       "      <td>5000</td>\n",
       "      <td>19</td>\n",
       "      <td>24</td>\n",
       "      <td>12964.0</td>\n",
       "    </tr>\n",
       "    <tr>\n",
       "      <th>27</th>\n",
       "      <td>28</td>\n",
       "      <td>1</td>\n",
       "      <td>dodge coronet custom</td>\n",
       "      <td>dodge</td>\n",
       "      <td>gas</td>\n",
       "      <td>turbo</td>\n",
       "      <td>2</td>\n",
       "      <td>sedan</td>\n",
       "      <td>fwd</td>\n",
       "      <td>front</td>\n",
       "      <td>93.7</td>\n",
       "      <td>157.3</td>\n",
       "      <td>63.8</td>\n",
       "      <td>50.6</td>\n",
       "      <td>2191</td>\n",
       "      <td>ohc</td>\n",
       "      <td>4</td>\n",
       "      <td>98</td>\n",
       "      <td>mpfi</td>\n",
       "      <td>3.03</td>\n",
       "      <td>3.39</td>\n",
       "      <td>7.6</td>\n",
       "      <td>102</td>\n",
       "      <td>5500</td>\n",
       "      <td>24</td>\n",
       "      <td>30</td>\n",
       "      <td>8558.0</td>\n",
       "    </tr>\n",
       "  </tbody>\n",
       "</table>\n",
       "</div>"
      ],
      "text/plain": [
       "    car_ID  symboling                    CarName BrandName fueltype  \\\n",
       "29      30          3  dodge coronet custom (sw)     dodge      gas   \n",
       "27      28          1       dodge coronet custom     dodge      gas   \n",
       "\n",
       "   aspiration  doornumber    carbody drivewheel enginelocation  wheelbase  \\\n",
       "29      turbo           2  hatchback        fwd          front       95.9   \n",
       "27      turbo           2      sedan        fwd          front       93.7   \n",
       "\n",
       "    carlength  carwidth  carheight  curbweight enginetype  cylindernumber  \\\n",
       "29      173.2      66.3       50.2        2811        ohc               4   \n",
       "27      157.3      63.8       50.6        2191        ohc               4   \n",
       "\n",
       "    enginesize fuelsystem  boreratio  stroke  compressionratio  horsepower  \\\n",
       "29         156        mfi       3.60    3.90               7.0         145   \n",
       "27          98       mpfi       3.03    3.39               7.6         102   \n",
       "\n",
       "    peakrpm  citympg  highwaympg    price  \n",
       "29     5000       19          24  12964.0  \n",
       "27     5500       24          30   8558.0  "
      ]
     },
     "execution_count": 810,
     "metadata": {},
     "output_type": "execute_result"
    }
   ],
   "source": [
    "df.sample(2)"
   ]
  },
  {
   "cell_type": "code",
   "execution_count": 811,
   "metadata": {},
   "outputs": [],
   "source": [
    "cols_to_edit = ['BrandName', 'CarName']\n",
    "\n",
    "replacements = {\n",
    "    'vw': 'volkswagen',\n",
    "    'vokswagen': 'volkswagen',\n",
    "    'toyouta': 'toyota',\n",
    "    'porcshce': 'porsche',\n",
    "    'maxda' : 'mazda'\n",
    "}\n",
    "\n",
    "# Apply replacements\n",
    "df[cols_to_edit] = df[cols_to_edit].replace(replacements)\n"
   ]
  },
  {
   "cell_type": "code",
   "execution_count": 812,
   "metadata": {},
   "outputs": [
    {
     "data": {
      "text/plain": [
       "BrandName\n",
       "toyota         32\n",
       "nissan         18\n",
       "mazda          17\n",
       "mitsubishi     13\n",
       "honda          13\n",
       "volkswagen     12\n",
       "subaru         12\n",
       "peugeot        11\n",
       "volvo          11\n",
       "dodge           9\n",
       "buick           8\n",
       "bmw             8\n",
       "audi            7\n",
       "plymouth        7\n",
       "saab            6\n",
       "porsche         5\n",
       "isuzu           4\n",
       "jaguar          3\n",
       "chevrolet       3\n",
       "alfa-romero     3\n",
       "renault         2\n",
       "mercury         1\n",
       "Name: count, dtype: int64"
      ]
     },
     "execution_count": 812,
     "metadata": {},
     "output_type": "execute_result"
    }
   ],
   "source": [
    "df['BrandName'].value_counts()"
   ]
  },
  {
   "cell_type": "code",
   "execution_count": 813,
   "metadata": {},
   "outputs": [],
   "source": [
    "del df['CarName']\n",
    "del df['car_ID']"
   ]
  },
  {
   "cell_type": "markdown",
   "metadata": {},
   "source": [
    "## EDA"
   ]
  },
  {
   "cell_type": "code",
   "execution_count": 814,
   "metadata": {},
   "outputs": [
    {
     "data": {
      "image/png": "[encoded data removed]",
      "text/plain": [
       "<Figure size 640x480 with 1 Axes>"
      ]
     },
     "metadata": {},
     "output_type": "display_data"
    }
   ],
   "source": [
    "plt.title('Distribution of Car Prices', fontsize=16)\n",
    "plt.ylabel('Price (USD)', fontsize=12)\n",
    "sns.boxplot(y=df['price'], color=\"Aqua\", flierprops=dict(markerfacecolor='red', marker='o'))\n",
    "plt.show()"
   ]
  },
  {
   "cell_type": "code",
   "execution_count": 815,
   "metadata": {},
   "outputs": [
    {
     "name": "stdout",
     "output_type": "stream",
     "text": [
      "Number of outlier rows is 15\n",
      "Number of rows in the df is 205\n",
      "Percentage of outliers in the df is 7.32 %\n"
     ]
    }
   ],
   "source": [
    "Q1 = df['price'].quantile(0.25)  # First quartile\n",
    "Q3 = df['price'].quantile(0.75)  # Third quartile\n",
    "IQR = Q3 - Q1                    # Interquartile range\n",
    "\n",
    "# Define outlier range\n",
    "lower_bound = Q1 - 1.5 * IQR\n",
    "upper_bound = Q3 + 1.5 * IQR\n",
    "\n",
    "# Filter outliers\n",
    "outliers = df[(df['price'] < lower_bound) | (df['price'] > upper_bound)]\n",
    "print(\"Number of outlier rows is\" , len(outliers))\n",
    "print(\"Number of rows in the df is\" , len(df))\n",
    "print(\"Percentage of outliers in the df is\", round((len(outliers)/len(df))*100,2), '%')\n"
   ]
  },
  {
   "cell_type": "code",
   "execution_count": 816,
   "metadata": {},
   "outputs": [
    {
     "data": {
      "image/png": "[encoded data removed]",
      "text/plain": [
       "<Figure size 1600x1200 with 7 Axes>"
      ]
     },
     "metadata": {},
     "output_type": "display_data"
    }
   ],
   "source": [
    "categorical_features = ['fuelsystem', 'fueltype', 'aspiration', 'carbody', 'drivewheel', 'enginelocation', 'enginetype']\n",
    "\n",
    "plt.figure(figsize=(16, 12))\n",
    "\n",
    "for i, feature in enumerate(categorical_features):\n",
    "    value_counts = df[feature].value_counts()\n",
    "    plt.subplot(3, 3, i + 1)  # 2 rows and 3 columns grid layout\n",
    "    sns.barplot(x=value_counts.index, y=value_counts.values, color=\"aqua\")  \n",
    "    plt.title(f'Distribution of {feature}')\n",
    "    plt.xlabel(feature)\n",
    "    plt.ylabel('Count')\n",
    "    plt.xticks(rotation=45)  # Rotate x-axis labels for readability\n",
    "\n",
    "plt.tight_layout()\n",
    "plt.show()\n"
   ]
  },
  {
   "cell_type": "code",
   "execution_count": null,
   "metadata": {},
   "outputs": [],
   "source": [
    "# Distribution of Numerical Features\n",
    "numerical_features = ['doornumber', 'wheelbase', 'carlength', 'carwidth', 'carheight', 'curbweight', 'cylindernumber', 'enginesize', 'boreratio', \n",
    "                      'stroke', 'compressionratio', 'horsepower', 'peakrpm', 'citympg', 'highwaympg', 'price']\n",
    "\n",
    "plt.figure(figsize=(16, 12))\n",
    "for i, feature in enumerate(numerical_features):\n",
    "    plt.subplot(4, 4, i + 1)\n",
    "    sns.histplot(data=df[feature], bins=20, kde=True, color=\"aqua\")\n",
    "    plt.title(feature)\n",
    "plt.tight_layout()\n",
    "plt.show()"
   ]
  },
  {
   "cell_type": "code",
   "execution_count": null,
   "metadata": {},
   "outputs": [],
   "source": [
    "correlation_matrix = df[numerical_features].corr()\n",
    "plt.figure(figsize=(25,15))\n",
    "sns.heatmap(correlation_matrix, annot=True, cmap='coolwarm')\n",
    "plt.title('Correlation of Numerical features')\n",
    "plt.show()"
   ]
  },
  {
   "cell_type": "markdown",
   "metadata": {},
   "source": [
    "## Pre-processing Data"
   ]
  },
  {
   "cell_type": "code",
   "execution_count": 767,
   "metadata": {},
   "outputs": [],
   "source": [
    "correlation_values = correlation_matrix['price'].sort_values(ascending=False)\n",
    "\n",
    "# Calculate the 80th percentile threshold\n",
    "threshold = np.percentile(correlation_values, 80)\n",
    "top_80th_percentile = correlation_values[correlation_values >= threshold]\n",
    "\n",
    "\n",
    "# Calculate the 20th percentile threshold (most negative correlations)\n",
    "negative_threshold = np.percentile(correlation_values, 20)\n",
    "bottom_20th_percentile = correlation_values[correlation_values <= negative_threshold]\n",
    "\n",
    "# Define thresholds for low correlation\n",
    "low_correlation_threshold = 0.2  # Upper bound for low correlation\n",
    "very_low_correlation_threshold = -0.2  # Lower bound for low correlation\n",
    "\n",
    "# Filter columns with low or very low correlation\n",
    "low_or_very_low_correlation = correlation_values[(correlation_values > very_low_correlation_threshold) & (correlation_values < low_correlation_threshold)]"
   ]
  },
  {
   "cell_type": "code",
   "execution_count": null,
   "metadata": {},
   "outputs": [],
   "source": [
    "# Select features with high correlation with price using the heat map and the list above\n",
    "Strong_positive_correlation_columns = top_80th_percentile # in top 80th pecentile\n",
    "print(f'Strong_positive_correlation_columns: {Strong_positive_correlation_columns}')\n",
    "Strong_negative_correlation_columns = bottom_20th_percentile\n",
    "print(f'Strong_negative_correlation_columns: {Strong_negative_correlation_columns}')\n",
    "low_correlation_columns = low_or_very_low_correlation\n",
    "print(f'low_correlation_columns: {low_correlation_columns}')"
   ]
  },
  {
   "cell_type": "code",
   "execution_count": 769,
   "metadata": {},
   "outputs": [],
   "source": [
    "# Drop features with very low correlation with price, \n",
    "df = df.drop(columns=low_correlation_columns.index)"
   ]
  },
  {
   "cell_type": "code",
   "execution_count": null,
   "metadata": {},
   "outputs": [],
   "source": [
    "for col in Strong_positive_correlation_columns.index:  # Looping through the column names\n",
    "    correlation_values = correlation_matrix[col].sort_values(ascending=False)\n",
    "\n",
    "    # Calculate the 80th percentile threshold (strong positive correlations)\n",
    "    threshold = np.percentile(correlation_values, 80)\n",
    "    top_80th_percentile = correlation_values[correlation_values >= threshold]\n",
    "    \n",
    "    # Calculate the 20th percentile threshold (most negative correlations)\n",
    "    negative_threshold = np.percentile(correlation_values, 20)\n",
    "    bottom_20th_percentile = correlation_values[correlation_values <= negative_threshold]\n",
    "\n",
    "    # Filter out low negative correlations from bottom percentile\n",
    "    filtered_negative_correlations = bottom_20th_percentile[bottom_20th_percentile < -0.5]\n",
    "    filtered_positive_correlations = top_80th_percentile[top_80th_percentile > 0.7]\n",
    "    \n",
    "    # Print the column name and its correlation values\n",
    "    print(f'Correlation values for {col}:')\n",
    "    print(f'Strong positive correlation for {col}:')\n",
    "    print(top_80th_percentile)  # Strong positive correlations\n",
    "    print(f'Strong negative correlation for {col}:')\n",
    "    print(filtered_negative_correlations)  # Strong negative correlations\n",
    "    print()"
   ]
  },
  {
   "cell_type": "code",
   "execution_count": null,
   "metadata": {},
   "outputs": [],
   "source": [
    "for col in Strong_negative_correlation_columns.index:  # Looping through the column names\n",
    "    correlation_values = correlation_matrix[col].sort_values(ascending=False)\n",
    "\n",
    "    # Calculate the 80th percentile threshold (strong positive correlations)\n",
    "    threshold = np.percentile(correlation_values, 80)\n",
    "    top_80th_percentile = correlation_values[correlation_values >= threshold]\n",
    "    \n",
    "    # Calculate the 20th percentile threshold (most negative correlations)\n",
    "    negative_threshold = np.percentile(correlation_values, 20)\n",
    "    bottom_20th_percentile = correlation_values[correlation_values <= negative_threshold]\n",
    "\n",
    "    # Filter out low negative correlations from bottom percentile\n",
    "    filtered_negative_correlations = bottom_20th_percentile[bottom_20th_percentile < -0.5]\n",
    "    filtered_positive_correlations = top_80th_percentile[top_80th_percentile > 0.7]\n",
    "    \n",
    "    # Print the column name and its correlation values\n",
    "    print(f'Correlation values for {col}:')\n",
    "    print(f'Strong positive correlation for {col}:')\n",
    "    print(filtered_positive_correlations)  # Strong positive correlations\n",
    "    print(f'Strong negative correlation for {col}:')\n",
    "    print(filtered_negative_correlations)  # Strong negative correlations\n",
    "    print()"
   ]
  },
  {
   "cell_type": "markdown",
   "metadata": {},
   "source": [
    "##### PCA analysis"
   ]
  },
  {
   "cell_type": "code",
   "execution_count": null,
   "metadata": {},
   "outputs": [],
   "source": [
    "# carlength & width into car dimensions\n",
    "car_dimensions_df = df[['carlength', 'carwidth']]\n",
    "print(type(car_dimensions_df))\n",
    "print(car_dimensions_df.head())\n",
    "\n",
    "# Standardize the data\n",
    "scaler = StandardScaler()\n",
    "data_standardized = scaler.fit_transform(car_dimensions_df)\n",
    "\n",
    "# Perform PCA\n",
    "pca = PCA(n_components=1)  # We want one principal component\n",
    "df['car_dimension'] = pca.fit_transform(data_standardized)\n",
    "\n",
    "print(\"Explained variance ratio:\", pca.explained_variance_ratio_) \n",
    "# If the explained variance ratio is high (e.g., > 0.9), it's safe to drop the original columns."
   ]
  },
  {
   "cell_type": "code",
   "execution_count": 773,
   "metadata": {},
   "outputs": [],
   "source": [
    "df = df.drop(columns=['carlength', 'carwidth'])"
   ]
  },
  {
   "cell_type": "code",
   "execution_count": null,
   "metadata": {},
   "outputs": [],
   "source": [
    "# citympg/highwaympg into fuel efficiency\n",
    "fuel_efficiency_df = df[['citympg', 'highwaympg']]\n",
    "print(type(fuel_efficiency_df))\n",
    "fuel_efficiency_df.head()"
   ]
  },
  {
   "cell_type": "code",
   "execution_count": null,
   "metadata": {},
   "outputs": [],
   "source": [
    "# Loop through the columns and print sorted unique values\n",
    "for col in fuel_efficiency_df:\n",
    "    unique_values = pd.Series(df[col].unique())  # Convert to Series\n",
    "    print(f\"Values in {col} are: {unique_values.sort_values().values}\")\n",
    "    # Check if the range is somewhat the same to perform either Normalization or Standardization"
   ]
  },
  {
   "cell_type": "code",
   "execution_count": null,
   "metadata": {},
   "outputs": [],
   "source": [
    "# Standardize the data\n",
    "scaler = StandardScaler()\n",
    "data_standardized = scaler.fit_transform(fuel_efficiency_df)\n",
    "\n",
    "# Perform PCA\n",
    "pca = PCA(n_components=1)  # We want one principal component\n",
    "df['fuel_efficiency'] = pca.fit_transform(data_standardized)\n",
    "\n",
    "print(\"Explained variance ratio:\", pca.explained_variance_ratio_) \n",
    "# If the explained variance ratio is high (e.g., > 0.9), it's safe to drop the original columns."
   ]
  },
  {
   "cell_type": "markdown",
   "metadata": {},
   "source": [
    "Both Standardization & normalization for fuel_efficiency_df have explained variance ratio of over 90%"
   ]
  },
  {
   "cell_type": "code",
   "execution_count": 777,
   "metadata": {},
   "outputs": [],
   "source": [
    "df = df.drop(columns=['citympg', 'highwaympg'])"
   ]
  },
  {
   "cell_type": "code",
   "execution_count": 778,
   "metadata": {},
   "outputs": [],
   "source": [
    "df = df.drop(columns=['symboling'])"
   ]
  },
  {
   "cell_type": "code",
   "execution_count": null,
   "metadata": {},
   "outputs": [],
   "source": [
    "df.head()"
   ]
  },
  {
   "cell_type": "code",
   "execution_count": null,
   "metadata": {},
   "outputs": [],
   "source": [
    "# Standardize columns with different scales\n",
    "cols_to_standardize_df = df[['curbweight', 'enginesize', 'wheelbase', 'boreratio', 'horsepower']]\n",
    "\n",
    "# Standardize the data\n",
    "scaler = StandardScaler()\n",
    "df[cols_to_standardize_df.columns] = scaler.fit_transform(cols_to_standardize_df)\n",
    "\n",
    "df.head(2)"
   ]
  },
  {
   "cell_type": "code",
   "execution_count": null,
   "metadata": {},
   "outputs": [],
   "source": [
    "df = df[['BrandName', 'fueltype', 'aspiration', 'carbody', 'drivewheel', 'enginelocation', 'enginetype', 'fuelsystem', \n",
    "          'curbweight', 'enginesize', 'wheelbase', 'boreratio', 'horsepower', 'car_dimension', \n",
    "         'fuel_efficiency', 'price']]\n",
    "\n",
    "df.head(2)"
   ]
  },
  {
   "cell_type": "code",
   "execution_count": 782,
   "metadata": {},
   "outputs": [],
   "source": [
    "categorical_features += ['BrandName']"
   ]
  },
  {
   "cell_type": "code",
   "execution_count": null,
   "metadata": {},
   "outputs": [],
   "source": [
    "print(categorical_features)"
   ]
  },
  {
   "cell_type": "code",
   "execution_count": 784,
   "metadata": {},
   "outputs": [],
   "source": [
    "one_hot_df = pd.get_dummies(df, columns=categorical_features, dtype=int, drop_first=True)"
   ]
  },
  {
   "cell_type": "code",
   "execution_count": null,
   "metadata": {},
   "outputs": [],
   "source": [
    "one_hot_df.sample(2)"
   ]
  },
  {
   "cell_type": "markdown",
   "metadata": {},
   "source": [
    "## Split Dataset - Random Forest Regressor model"
   ]
  },
  {
   "cell_type": "code",
   "execution_count": 786,
   "metadata": {},
   "outputs": [],
   "source": [
    "X = one_hot_df.drop('price', axis=1)  # Features\n",
    "y = one_hot_df['price']   # Target variable\n",
    "\n",
    "# Split into training and testing sets ()\n",
    "X_train, X_test, y_train, y_test = train_test_split(X, y, test_size=0.20, random_state=23)"
   ]
  },
  {
   "cell_type": "code",
   "execution_count": null,
   "metadata": {},
   "outputs": [],
   "source": [
    "# Check current tracking URI\n",
    "print(\"Tracking URI:\", mlflow.get_tracking_uri())\n",
    "\n",
    "# Start MLflow tracking\n",
    "mlflow.set_experiment(\"car_price_prediction\")"
   ]
  },
  {
   "cell_type": "code",
   "execution_count": null,
   "metadata": {},
   "outputs": [],
   "source": [
    "# Model training and logging\n",
    "with mlflow.start_run():  # Start an MLflow run\n",
    "    # Log parameters\n",
    "    mlflow.log_artifact(\"Car_prices.ipynb\")\n",
    "    mlflow.set_tag(\"version\", \"v3.0\")\n",
    "    mlflow.set_tag(\"notes\", \"randomForest model\")\n",
    "\n",
    "    results = {}\n",
    "    for n in [10, 50, 100, 150, 200]:\n",
    "        # Initialize and train the Random Forest Regressor\n",
    "        model = RandomForestRegressor(n_estimators=n, random_state=23)  \n",
    "        model.fit(X_train, y_train)  # Train the model\n",
    "\n",
    "        # Make predictions\n",
    "        y_pred = model.predict(X_test)\n",
    "\n",
    "        # Calculate metrics\n",
    "        r2 = r2_score(y_test, y_pred)\n",
    "        mae = mean_absolute_error(y_test, y_pred)\n",
    "        mse = mean_squared_error(y_test, y_pred)\n",
    "\n",
    "        # Store the metrics in the results dictionary for each n_estimators\n",
    "        results[n] = {\"R2\": r2, \"MAE\": mae, \"MSE\": mse}\n",
    "\n",
    "        # Log metrics\n",
    "        mlflow.log_param(\"n_estimators\", n)\n",
    "        mlflow.log_metric(\"R2\", r2)\n",
    "        mlflow.log_metric(\"MAE\", mae)\n",
    "        mlflow.log_metric(\"MSE\", mse)\n",
    "\n",
    "        # Infer the model signature from training data\n",
    "        signature = infer_signature(X_train, model.predict(X_train))\n",
    "\n",
    "        input_example = X.head(1)\n",
    "\n",
    "        # Log the model\n",
    "        mlflow.sklearn.log_model(model, \"car_prediction_random_forest_model\", input_example=input_example, signature=signature)\n",
    "\n",
    "        print(f\"Logged metrics for n_estimators={n}: R2={r2}, MAE={mae}, MSE={mse}\")\n",
    "\n",
    "print(\"All model results:\", results)\n"
   ]
  },
  {
   "cell_type": "code",
   "execution_count": null,
   "metadata": {},
   "outputs": [],
   "source": [
    "# Feature importance\n",
    "importance = model.feature_importances_\n",
    "feature_names = X.columns\n",
    "\n",
    "# Create a DataFrame for better visualization\n",
    "importance_df = pd.DataFrame({'Feature': feature_names, 'Importance': importance})\n",
    "importance_df.sort_values(by='Importance', ascending=False, inplace=True)\n",
    "\n",
    "# Plot\n",
    "plt.figure(figsize=(10, 6))\n",
    "plt.barh(importance_df['Feature'], importance_df['Importance'])\n",
    "plt.gca().invert_yaxis()\n",
    "plt.title(\"Feature Importance\")\n",
    "plt.xlabel(\"Importance Score\")\n",
    "plt.show()"
   ]
  },
  {
   "cell_type": "code",
   "execution_count": null,
   "metadata": {},
   "outputs": [],
   "source": [
    "# Visualization: Actual vs Predicted\n",
    "with tempfile.NamedTemporaryFile(suffix=\".png\") as temp:\n",
    "    plt.figure(figsize=(8, 6))\n",
    "    plt.scatter(y_test, y_pred, color=\"aqua\", alpha=0.6, edgecolors=\"k\", label=\"Predictions\")\n",
    "    \n",
    "    # Add a reference line for perfect predictions\n",
    "    min_val = min(y_test.min(), y_pred.min())\n",
    "    max_val = max(y_test.max(), y_pred.max())\n",
    "    plt.plot([min_val, max_val], [min_val, max_val], color=\"red\", linestyle=\"--\", label=\"Perfect Fit\")\n",
    "    \n",
    "    # Plot customization\n",
    "    plt.xlabel(\"Actual Values\")\n",
    "    plt.ylabel(\"Predicted Values\")\n",
    "    plt.title(\"Actual vs Predicted (Random Forest)\")\n",
    "    plt.legend()\n",
    "    plt.grid(alpha=0.3)\n",
    "    plt.savefig(temp.name)\n",
    "    \n",
    "    # Log the plot to MLflow\n",
    "    mlflow.log_artifact(temp.name, artifact_path=\"plots/actual_vs_predicted\")\n"
   ]
  },
  {
   "cell_type": "code",
   "execution_count": 791,
   "metadata": {},
   "outputs": [],
   "source": [
    "mlflow.end_run()"
   ]
  }
 ],
 "metadata": {
  "kernelspec": {
   "display_name": "Python 3",
   "language": "python",
   "name": "python3"
  },
  "language_info": {
   "codemirror_mode": {
    "name": "ipython",
    "version": 3
   },
   "file_extension": ".py",
   "mimetype": "text/x-python",
   "name": "python",
   "nbconvert_exporter": "python",
   "pygments_lexer": "ipython3",
   "version": "3.12.3"
  }
 },
 "nbformat": 4,
 "nbformat_minor": 2
}
